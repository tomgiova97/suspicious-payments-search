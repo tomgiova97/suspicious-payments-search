{
 "cells": [
  {
   "cell_type": "code",
   "execution_count": null,
   "id": "c3012968",
   "metadata": {},
   "outputs": [],
   "source": [
    "import matplotlib.pyplot as plt\n",
    "import numpy as np\n",
    "from collections import Counter\n",
    "import pandas as pd\n",
    "import seaborn as sns\n",
    "#from scipy import stats\n",
    "\n",
    "from func_utils import *\n",
    "\n",
    "#Two lines to make project autoimport again after \n",
    "#every modifications in func_utils\n",
    "%load_ext autoreload\n",
    "%autoreload 2"
   ]
  },
  {
   "cell_type": "markdown",
   "id": "0ba50a86",
   "metadata": {},
   "source": [
    "# File reading"
   ]
  },
  {
   "cell_type": "code",
   "execution_count": null,
   "id": "7a430f44",
   "metadata": {},
   "outputs": [],
   "source": [
    "from func_utils import getDataFilePath\n",
    "df = pd.read_excel(getDataFilePath(), sheet_name = 'Tabella')"
   ]
  },
  {
   "cell_type": "markdown",
   "id": "6cb2c0e6",
   "metadata": {},
   "source": [
    "# Data initial filtering\n",
    "\n"
   ]
  },
  {
   "cell_type": "code",
   "execution_count": null,
   "id": "a4593229",
   "metadata": {},
   "outputs": [],
   "source": [
    "valid_claim_values = ['ZW01','ZW02','ZW06']\n",
    "valid_part_number_descr_values = ['-ECONOMY', '-ECONOMY50', '-E1', '-E3']\n",
    "\n",
    "#filter by claim_type and part_number_des\n",
    "filt_df = filterByColumnValues(df,'claim_type',valid_claim_values)\n",
    "filt_df = filterByColumnValues(filt_df,'part_number_des',valid_part_number_descr_values)\n",
    "\n",
    "#filt_df"
   ]
  },
  {
   "cell_type": "markdown",
   "id": "79378c8c",
   "metadata": {},
   "source": [
    "# Separate df by country"
   ]
  },
  {
   "cell_type": "code",
   "execution_count": null,
   "id": "7789bcd1",
   "metadata": {},
   "outputs": [],
   "source": [
    "countries_list=getTableColumn(filt_df,'country',True)#Get a list with all the present countries\n",
    "\n",
    "df_list = separateDfByCountry(filt_df,countries_list)"
   ]
  },
  {
   "cell_type": "markdown",
   "id": "24f4b8f0",
   "metadata": {},
   "source": [
    "## Filtering of data only for the most 30 common components "
   ]
  },
  {
   "cell_type": "code",
   "execution_count": null,
   "id": "fa06ad34",
   "metadata": {},
   "outputs": [],
   "source": [
    "numOfComponentToAnalyze= 30 #Number of most common components to analyze\n",
    "mostCommonComponents = [] \n",
    "componentsFrequencies = Counter(filt_df['component']).most_common(numOfComponentToAnalyze) #list of couples comp-frequency\n",
    "\n",
    "for component in componentsFrequencies : \n",
    "    mostCommonComponents.append(component[0])"
   ]
  },
  {
   "cell_type": "code",
   "execution_count": null,
   "id": "fa26f91c",
   "metadata": {},
   "outputs": [],
   "source": [
    "df_list_comp_filt = [] #df_list but filtering only the most common components\n",
    "\n",
    "for countryTable in df_list:\n",
    "    df_list_comp_filt.append(filterByColumnValues(countryTable,'component',mostCommonComponents))\n",
    "\n",
    "len(df_list_comp_filt[2])    "
   ]
  },
  {
   "cell_type": "markdown",
   "id": "7eb6203b",
   "metadata": {},
   "source": [
    "## Additional filter excluding the rows that have working hours or amount equal to zero"
   ]
  },
  {
   "cell_type": "code",
   "execution_count": null,
   "id": "bae72732",
   "metadata": {},
   "outputs": [],
   "source": [
    "df_list_without_outliers=[] #Removing data with 0 working hours and 0 net gain\n",
    "for countryTable in df_list_comp_filt:\n",
    "    df_list_without_outliers.append(countryTable[(countryTable['work_hours']>0) & (countryTable['amount']>0)])"
   ]
  },
  {
   "cell_type": "markdown",
   "id": "978673ee",
   "metadata": {},
   "source": [
    "## Dataframe with outliers"
   ]
  },
  {
   "cell_type": "code",
   "execution_count": null,
   "id": "e7d8cc20",
   "metadata": {},
   "outputs": [],
   "source": [
    "df_list_outliers=[] #Data with 0 working hours and 0 net gain\n",
    "for countryTable in df_list_comp_filt:\n",
    "    df_list_outliers.append(countryTable[(countryTable['work_hours']==0) | (countryTable['amount']==0)])\n",
    "\n",
    "print('Outliers number:', len(df_list_outliers[1]))    "
   ]
  },
  {
   "cell_type": "markdown",
   "id": "54eba05d",
   "metadata": {},
   "source": [
    "## Plot with outliers"
   ]
  },
  {
   "cell_type": "code",
   "execution_count": null,
   "id": "3bde0a9f",
   "metadata": {},
   "outputs": [],
   "source": [
    "currentNation = 'Austria'\n",
    "\n",
    "countryIndex = getValueIndex(countries_list,currentNation)\n",
    "\n",
    "g=sns.relplot(\n",
    "    data=df_list_comp_filt[countryIndex],\n",
    "    x=\"work_hours\", y=\"amount\",\n",
    "    hue=\"product_division\"\n",
    ")\n",
    "g.fig.suptitle(currentNation)"
   ]
  },
  {
   "cell_type": "markdown",
   "id": "9b7dac7e",
   "metadata": {},
   "source": []
  },
  {
   "cell_type": "markdown",
   "id": "f0105275",
   "metadata": {},
   "source": [
    "## Plot without outliers"
   ]
  },
  {
   "cell_type": "code",
   "execution_count": null,
   "id": "ec8425fd",
   "metadata": {},
   "outputs": [],
   "source": [
    "currentNation = 'Italy'\n",
    "\n",
    "countryIndex = getValueIndex(countries_list,currentNation)\n",
    "\n",
    "g=sns.relplot(\n",
    "    data=df_list_without_outliers[countryIndex],\n",
    "    x=\"work_hours\", y=\"amount\",\n",
    "    hue=\"component\"\n",
    ")\n",
    "g.fig.suptitle(currentNation)"
   ]
  },
  {
   "cell_type": "markdown",
   "id": "66a7379b",
   "metadata": {},
   "source": [
    "## Adding to the no-outliers dataframe another column containing the ratio amount/work_hours"
   ]
  },
  {
   "cell_type": "code",
   "execution_count": null,
   "id": "45c549b5",
   "metadata": {},
   "outputs": [],
   "source": [
    "ratio_df_list_without_outliers = df_list_without_outliers  #new df that will contain the new column\n",
    "\n",
    "for countryTable in ratio_df_list_without_outliers:\n",
    "    countryTable['amount/work_hours'] = countryTable['amount']/countryTable['work_hours']\n",
    "\n",
    "ratio_df_list_without_outliers[1]"
   ]
  },
  {
   "cell_type": "markdown",
   "id": "8c7f4ed8",
   "metadata": {},
   "source": [
    "## Boxplot for countries"
   ]
  },
  {
   "cell_type": "code",
   "execution_count": null,
   "id": "0276ff01",
   "metadata": {},
   "outputs": [],
   "source": [
    "currentNation = 'Germany'\n",
    "countryIndex = getValueIndex(countries_list,currentNation)\n",
    "\n",
    "sns.boxplot(x=ratio_df_list_without_outliers[countryIndex][\"amount/work_hours\"]\n",
    ",y=ratio_df_list_without_outliers[countryIndex][\"component\"])\n",
    "\n",
    "plt.title(currentNation)"
   ]
  },
  {
   "cell_type": "markdown",
   "id": "75dd0409",
   "metadata": {},
   "source": [
    "## Addin a column containing the z score of each amount/work hours ratio (for each component)"
   ]
  },
  {
   "cell_type": "code",
   "execution_count": null,
   "id": "81693d93",
   "metadata": {},
   "outputs": [],
   "source": [
    "zscore_df_list_without_outliers = ratio_df_list_without_outliers  #new df that will contain the new column\n",
    "\n",
    "for countryTable in zscore_df_list_without_outliers:\n",
    "    countryTable['z_score'] = computeZScoreColumn(countryTable,'component','amount/work_hours')\n",
    "\n",
    "#zscore_df_list_without_outliers[1]['z_score'].tolist()"
   ]
  },
  {
   "cell_type": "markdown",
   "id": "229c0f3e",
   "metadata": {},
   "source": [
    "## I filter out the rows with z_score (absolute value) bigger than 3"
   ]
  },
  {
   "cell_type": "code",
   "execution_count": null,
   "id": "a430cd3b",
   "metadata": {},
   "outputs": [],
   "source": [
    "df_filt_zscore=[] #List with values of the previous df, removing the rows with abs(zscore)>3\n",
    "\n",
    "for countryTable in zscore_df_list_without_outliers:\n",
    "    df_filt_zscore.append(countryTable[(abs(countryTable['z_score'])<=3)])\n",
    "\n",
    "\n",
    "#print(getTableColumn(df_filt_zscore[1],'z_score', False))"
   ]
  },
  {
   "cell_type": "markdown",
   "id": "91e6f36a",
   "metadata": {},
   "source": [
    "## Dataframe containing only the z_score outliers removed in the previous cell"
   ]
  },
  {
   "cell_type": "code",
   "execution_count": null,
   "id": "3d17c6cb",
   "metadata": {},
   "outputs": [],
   "source": [
    "df_zscore_outliers = [] #List containing the z_score outliers \n",
    "\n",
    "for countryTable in zscore_df_list_without_outliers:\n",
    "    df_zscore_outliers.append(countryTable[(abs(countryTable['z_score'])>3)])\n",
    "\n",
    "#print(getTableColumn(df_zscore_outliers[1],'z_score', False))"
   ]
  },
  {
   "cell_type": "markdown",
   "id": "9438ab0d",
   "metadata": {},
   "source": [
    "## Outliers percentage per country"
   ]
  },
  {
   "cell_type": "code",
   "execution_count": 71,
   "id": "01e20a98",
   "metadata": {},
   "outputs": [
    {
     "name": "stdout",
     "output_type": "stream",
     "text": [
      "[0.008166078956438741, 0.01023297664940587, 0.014307917352349608, 0.0020833333333333333, 0.01866238253482691, 0.012424199016377787, 0.012656935796672451, 0.009207323526299079, 0.025528520143597924, 0.010617760617760617, 0.021216407355021217, 0.015978054238756405, 0.008095199546668826, 0.025627615062761507, 0.013981569748967271, 0.03655913978494624, 0.011050794881737108, 0.010529373320746497, 0.03145853193517636, 0.0044994375703037125, 0.007877664504170528, 0.015703869882220976, 0.0, 0.024390243902439025, 0.008888888888888889, 0.043478260869565216, 0.007575757575757576, 0.010471204188481676, 0.00936768149882904, 0.018072289156626505, 0.11428571428571428, 0.0, 1.0, 0.0, 0.0]\n"
     ]
    }
   ],
   "source": [
    "outliers_percentages = []\n",
    "\n",
    "for i in range( len(countries_list)):\n",
    "    outliers_percentages.append((len(df_list_outliers[i].index)+len(df_zscore_outliers[i].index))/len(df_list[i].index)) \n",
    "\n",
    "#print(outliers_percentages)       "
   ]
  }
 ],
 "metadata": {
  "kernelspec": {
   "display_name": "Python 3.10.8 64-bit",
   "language": "python",
   "name": "python3"
  },
  "language_info": {
   "codemirror_mode": {
    "name": "ipython",
    "version": 3
   },
   "file_extension": ".py",
   "mimetype": "text/x-python",
   "name": "python",
   "nbconvert_exporter": "python",
   "pygments_lexer": "ipython3",
   "version": "3.10.8"
  },
  "vscode": {
   "interpreter": {
    "hash": "ceba285e8b4e6478fe8ad229bc63940a90ad5cf3d143521e7c38823a2e915b21"
   }
  }
 },
 "nbformat": 4,
 "nbformat_minor": 5
}
