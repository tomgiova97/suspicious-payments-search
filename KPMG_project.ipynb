{
 "cells": [
  {
   "cell_type": "code",
   "execution_count": 1,
   "id": "c3012968",
   "metadata": {},
   "outputs": [],
   "source": [
    "import matplotlib.pyplot as plt\n",
    "import numpy as np\n",
    "from collections import Counter\n",
    "import pandas as pd\n",
    "import seaborn as sns\n",
    "#from scipy import stats\n",
    "\n",
    "from func_utils import *\n",
    "\n",
    "#Two lines to make project autoimport again after \n",
    "#every modifications in func_utils\n",
    "%load_ext autoreload\n",
    "%autoreload 2"
   ]
  },
  {
   "cell_type": "markdown",
   "id": "0ba50a86",
   "metadata": {},
   "source": [
    "# Lettura del documento"
   ]
  },
  {
   "cell_type": "code",
   "execution_count": 2,
   "id": "7a430f44",
   "metadata": {},
   "outputs": [],
   "source": [
    "from func_utils import getDataFilePath\n",
    "df = pd.read_excel(getDataFilePath(), sheet_name = 'Tabella')"
   ]
  },
  {
   "cell_type": "markdown",
   "id": "6cb2c0e6",
   "metadata": {},
   "source": [
    "# Filtro dati\n",
    "\n"
   ]
  },
  {
   "cell_type": "code",
   "execution_count": 3,
   "id": "a4593229",
   "metadata": {},
   "outputs": [
    {
     "data": {
      "text/html": [
       "<div>\n",
       "<style scoped>\n",
       "    .dataframe tbody tr th:only-of-type {\n",
       "        vertical-align: middle;\n",
       "    }\n",
       "\n",
       "    .dataframe tbody tr th {\n",
       "        vertical-align: top;\n",
       "    }\n",
       "\n",
       "    .dataframe thead th {\n",
       "        text-align: right;\n",
       "    }\n",
       "</style>\n",
       "<table border=\"1\" class=\"dataframe\">\n",
       "  <thead>\n",
       "    <tr style=\"text-align: right;\">\n",
       "      <th></th>\n",
       "      <th>id_claim_hash</th>\n",
       "      <th>claim_type</th>\n",
       "      <th>claim_status</th>\n",
       "      <th>claim_status_des</th>\n",
       "      <th>work_hours</th>\n",
       "      <th>failure_date</th>\n",
       "      <th>vin_hash</th>\n",
       "      <th>product_division</th>\n",
       "      <th>business_unit_des</th>\n",
       "      <th>region</th>\n",
       "      <th>...</th>\n",
       "      <th>component</th>\n",
       "      <th>component_des</th>\n",
       "      <th>item_type</th>\n",
       "      <th>id_causal_part_hash</th>\n",
       "      <th>id_part_number_hash</th>\n",
       "      <th>part_number_des</th>\n",
       "      <th>cd_decision</th>\n",
       "      <th>decision_des</th>\n",
       "      <th>amount</th>\n",
       "      <th>cd_dealer_hash</th>\n",
       "    </tr>\n",
       "  </thead>\n",
       "  <tbody>\n",
       "    <tr>\n",
       "      <th>0</th>\n",
       "      <td>70a6c41c37a072a07164100b1182300149231993c9604d...</td>\n",
       "      <td>ZW02</td>\n",
       "      <td>Z080</td>\n",
       "      <td>Claim paid</td>\n",
       "      <td>0.20</td>\n",
       "      <td>2019-02-28</td>\n",
       "      <td>7844f9bafe2de98fbcb6c501885449218aceb8c0c315db...</td>\n",
       "      <td>TRUCK</td>\n",
       "      <td>COMMERCIAL VEHICLES B.U.</td>\n",
       "      <td>Europe</td>\n",
       "      <td>...</td>\n",
       "      <td>54063</td>\n",
       "      <td>ROCKER TOP COVER</td>\n",
       "      <td>FR</td>\n",
       "      <td>c47636bcc77194a7fbfa08d10d5f18be88e2654de170d0...</td>\n",
       "      <td>5cc870b50d68a02f026216d8d089eb8615e8e26129308d...</td>\n",
       "      <td>-ECONOMY</td>\n",
       "      <td>P</td>\n",
       "      <td>Pay</td>\n",
       "      <td>5.906040</td>\n",
       "      <td>35e183f47f75b85aa0c92e6251ef8c3d1bbf184708a529...</td>\n",
       "    </tr>\n",
       "    <tr>\n",
       "      <th>2</th>\n",
       "      <td>41311833ad1442619fad570eb3186e2532dcd22489eabf...</td>\n",
       "      <td>ZW02</td>\n",
       "      <td>Z080</td>\n",
       "      <td>Claim paid</td>\n",
       "      <td>0.60</td>\n",
       "      <td>2019-12-02</td>\n",
       "      <td>6527fb44ac31cdce99bc39fcec7d947e552eee4abe8e14...</td>\n",
       "      <td>TRUCK</td>\n",
       "      <td>BU TRUCKS -HEAVY RANGE</td>\n",
       "      <td>Europe</td>\n",
       "      <td>...</td>\n",
       "      <td>76081</td>\n",
       "      <td>STARTER MOTOR ASSY</td>\n",
       "      <td>FR</td>\n",
       "      <td>140356535f38645fbae99ad8816575da6e91e634089873...</td>\n",
       "      <td>5cc870b50d68a02f026216d8d089eb8615e8e26129308d...</td>\n",
       "      <td>-ECONOMY</td>\n",
       "      <td>P</td>\n",
       "      <td>Pay</td>\n",
       "      <td>25.080000</td>\n",
       "      <td>c18a8ad752fb7e649161dcabed2d1fb96fa38265866c1e...</td>\n",
       "    </tr>\n",
       "    <tr>\n",
       "      <th>3</th>\n",
       "      <td>178303f7069ee3d0650a50ac6491de917efad040cc10fb...</td>\n",
       "      <td>ZW02</td>\n",
       "      <td>Z080</td>\n",
       "      <td>Claim paid</td>\n",
       "      <td>2.00</td>\n",
       "      <td>2020-06-12</td>\n",
       "      <td>dc30d2d67f63c15ed647c96de9794aed4b37306f66cbc7...</td>\n",
       "      <td>TRUCK</td>\n",
       "      <td>BU TRUCKS -HEAVY RANGE</td>\n",
       "      <td>Europe</td>\n",
       "      <td>...</td>\n",
       "      <td>55292</td>\n",
       "      <td>MUDGUARD</td>\n",
       "      <td>FR</td>\n",
       "      <td>6d9f59542772b3c15939a30ff690d0dc1705180406528f...</td>\n",
       "      <td>5cc870b50d68a02f026216d8d089eb8615e8e26129308d...</td>\n",
       "      <td>-ECONOMY</td>\n",
       "      <td>P</td>\n",
       "      <td>Pay</td>\n",
       "      <td>114.600000</td>\n",
       "      <td>40f6461449ca9c11a4e7bf125b67626759976a171b4a72...</td>\n",
       "    </tr>\n",
       "    <tr>\n",
       "      <th>4</th>\n",
       "      <td>4c379212dd6466ae8d1cc9365a6facc05c21c1c6c8fde9...</td>\n",
       "      <td>ZW01</td>\n",
       "      <td>Z080</td>\n",
       "      <td>Claim paid</td>\n",
       "      <td>0.10</td>\n",
       "      <td>2021-07-20</td>\n",
       "      <td>19e83fb7cfd3a24b4ec4159a22d1bca823485f4f59f46a...</td>\n",
       "      <td>BUS</td>\n",
       "      <td>COMMERCIAL VEHICLES B.U.</td>\n",
       "      <td>Europe</td>\n",
       "      <td>...</td>\n",
       "      <td>50471</td>\n",
       "      <td>ELECTRIC DECELERATOR</td>\n",
       "      <td>FR</td>\n",
       "      <td>b4f0f24a67fd7bdc5284caac0d8409678b95eb6e2a5ba5...</td>\n",
       "      <td>5cc870b50d68a02f026216d8d089eb8615e8e26129308d...</td>\n",
       "      <td>-ECONOMY</td>\n",
       "      <td>P</td>\n",
       "      <td>Pay</td>\n",
       "      <td>3.100000</td>\n",
       "      <td>4eb70fde548ac04fb216d9ea04721497db4a4f7b2f6ea8...</td>\n",
       "    </tr>\n",
       "    <tr>\n",
       "      <th>5</th>\n",
       "      <td>ba855dc9287b23b47d929db58cf4be351d0620fe4d74f7...</td>\n",
       "      <td>ZW01</td>\n",
       "      <td>Z080</td>\n",
       "      <td>Claim paid</td>\n",
       "      <td>0.50</td>\n",
       "      <td>2020-08-03</td>\n",
       "      <td>57ec655a71291f290cca3f9e64f27b2d3188a5555c8dad...</td>\n",
       "      <td>TRUCK</td>\n",
       "      <td>COMMERCIAL VEHICLES B.U.</td>\n",
       "      <td>Europe</td>\n",
       "      <td>...</td>\n",
       "      <td>54241</td>\n",
       "      <td>TURBO CHARGER</td>\n",
       "      <td>FR</td>\n",
       "      <td>758dc31d7430b3c566ce5bdec59af7e2b8a6778024471f...</td>\n",
       "      <td>5cc870b50d68a02f026216d8d089eb8615e8e26129308d...</td>\n",
       "      <td>-ECONOMY</td>\n",
       "      <td>P</td>\n",
       "      <td>Pay</td>\n",
       "      <td>20.150000</td>\n",
       "      <td>5f3b6732c285356be83ff90d5f3cbc5a3afe11add07d57...</td>\n",
       "    </tr>\n",
       "    <tr>\n",
       "      <th>...</th>\n",
       "      <td>...</td>\n",
       "      <td>...</td>\n",
       "      <td>...</td>\n",
       "      <td>...</td>\n",
       "      <td>...</td>\n",
       "      <td>...</td>\n",
       "      <td>...</td>\n",
       "      <td>...</td>\n",
       "      <td>...</td>\n",
       "      <td>...</td>\n",
       "      <td>...</td>\n",
       "      <td>...</td>\n",
       "      <td>...</td>\n",
       "      <td>...</td>\n",
       "      <td>...</td>\n",
       "      <td>...</td>\n",
       "      <td>...</td>\n",
       "      <td>...</td>\n",
       "      <td>...</td>\n",
       "      <td>...</td>\n",
       "      <td>...</td>\n",
       "    </tr>\n",
       "    <tr>\n",
       "      <th>644542</th>\n",
       "      <td>4ab775abcfc07af3cff1eaec7e3268517e9fcec78a56b9...</td>\n",
       "      <td>ZW02</td>\n",
       "      <td>Z080</td>\n",
       "      <td>Claim paid</td>\n",
       "      <td>4.65</td>\n",
       "      <td>2019-02-11</td>\n",
       "      <td>6ca114f977053f48573a371ff439524865c953d7005ccf...</td>\n",
       "      <td>TRUCK</td>\n",
       "      <td>BU TRUCKS -MEDIUM RANGE</td>\n",
       "      <td>Europe</td>\n",
       "      <td>...</td>\n",
       "      <td>50743</td>\n",
       "      <td>NOX DETECTION SENSOR</td>\n",
       "      <td>FR</td>\n",
       "      <td>8a6ce6993469b0044dbd525a5b6656aa626cea4902b867...</td>\n",
       "      <td>5cc870b50d68a02f026216d8d089eb8615e8e26129308d...</td>\n",
       "      <td>-ECONOMY</td>\n",
       "      <td>P</td>\n",
       "      <td>Pay</td>\n",
       "      <td>259.010000</td>\n",
       "      <td>4b050802135759e35dc2bb285005e7a5ea8f4ec8f8b515...</td>\n",
       "    </tr>\n",
       "    <tr>\n",
       "      <th>644543</th>\n",
       "      <td>f0744e92e666002e85be195155dd0e9339d5dab119a416...</td>\n",
       "      <td>ZW02</td>\n",
       "      <td>Z080</td>\n",
       "      <td>Claim paid</td>\n",
       "      <td>1.20</td>\n",
       "      <td>2019-05-30</td>\n",
       "      <td>08dbfa6b2c6bb0031df7ed661fdb03b922524db363c3d0...</td>\n",
       "      <td>TRUCK</td>\n",
       "      <td>COMMERCIAL VEHICLES B.U.</td>\n",
       "      <td>Europe</td>\n",
       "      <td>...</td>\n",
       "      <td>50146</td>\n",
       "      <td>HYDR.ST.SYS PIPES+HOSES</td>\n",
       "      <td>FR</td>\n",
       "      <td>50938cfdce8595a5f29062abdcaffffc0151e9d7f42566...</td>\n",
       "      <td>5cc870b50d68a02f026216d8d089eb8615e8e26129308d...</td>\n",
       "      <td>-ECONOMY</td>\n",
       "      <td>P</td>\n",
       "      <td>Pay</td>\n",
       "      <td>84.558140</td>\n",
       "      <td>0ac8f96330b2fadef0f4f052dc36e91075b89998de00d4...</td>\n",
       "    </tr>\n",
       "    <tr>\n",
       "      <th>644544</th>\n",
       "      <td>5d6969a2ad9a348a582c8866970b84dbc3373bdeb0359c...</td>\n",
       "      <td>ZW02</td>\n",
       "      <td>Z080</td>\n",
       "      <td>Claim paid</td>\n",
       "      <td>0.10</td>\n",
       "      <td>2021-01-25</td>\n",
       "      <td>3085e86f43483773365dfa04250c4844142e4899d5e3fb...</td>\n",
       "      <td>TRUCK</td>\n",
       "      <td>COMMERCIAL VEHICLES B.U.</td>\n",
       "      <td>Europe</td>\n",
       "      <td>...</td>\n",
       "      <td>76201</td>\n",
       "      <td>BATTERY</td>\n",
       "      <td>FR</td>\n",
       "      <td>be489a7ed23065e5f5341c367f7923c5b5d41caa90ca82...</td>\n",
       "      <td>5cc870b50d68a02f026216d8d089eb8615e8e26129308d...</td>\n",
       "      <td>-ECONOMY</td>\n",
       "      <td>P</td>\n",
       "      <td>Pay</td>\n",
       "      <td>8.100000</td>\n",
       "      <td>de3d0af8236f47c31d41ff2239626659ece35033c428e0...</td>\n",
       "    </tr>\n",
       "    <tr>\n",
       "      <th>644545</th>\n",
       "      <td>0530495825d7a8fa90a3d1a8b933164024ce69943e3732...</td>\n",
       "      <td>ZW01</td>\n",
       "      <td>Z080</td>\n",
       "      <td>Claim paid</td>\n",
       "      <td>1.00</td>\n",
       "      <td>2021-01-20</td>\n",
       "      <td>c27a1de4ffaed8e4c09a28b83ebe6fb00ebf375d85d0c6...</td>\n",
       "      <td>BUS</td>\n",
       "      <td>BUS DIVISION</td>\n",
       "      <td>Europe</td>\n",
       "      <td>...</td>\n",
       "      <td>50604</td>\n",
       "      <td>COLLARS,HOSES,SLEEVES</td>\n",
       "      <td>FR</td>\n",
       "      <td>9b2b4b307c2a19bd1ff2c0f1bb56ccbec3dbd383709ba0...</td>\n",
       "      <td>5cc870b50d68a02f026216d8d089eb8615e8e26129308d...</td>\n",
       "      <td>-ECONOMY</td>\n",
       "      <td>P</td>\n",
       "      <td>Pay</td>\n",
       "      <td>76.000000</td>\n",
       "      <td>cc4116d9cf1e2d54ba6644be17e845db0b26716bb99a45...</td>\n",
       "    </tr>\n",
       "    <tr>\n",
       "      <th>644547</th>\n",
       "      <td>6dc77a54e3993f771f6bce7c15cd3d22765719bc157308...</td>\n",
       "      <td>ZW02</td>\n",
       "      <td>Z080</td>\n",
       "      <td>Claim paid</td>\n",
       "      <td>1.00</td>\n",
       "      <td>2019-08-19</td>\n",
       "      <td>d81432fde719603f5a7560f5bb10a8d26a7158afbe9060...</td>\n",
       "      <td>TRUCK</td>\n",
       "      <td>BU TRUCKS -MEDIUM RANGE</td>\n",
       "      <td>Europe</td>\n",
       "      <td>...</td>\n",
       "      <td>54371</td>\n",
       "      <td>EXHAUST BRAKE ASSY</td>\n",
       "      <td>FR</td>\n",
       "      <td>aaffaade4597456ae57dc6a392bf3242044573aa377045...</td>\n",
       "      <td>5cc870b50d68a02f026216d8d089eb8615e8e26129308d...</td>\n",
       "      <td>-ECONOMY</td>\n",
       "      <td>P</td>\n",
       "      <td>Pay</td>\n",
       "      <td>36.577181</td>\n",
       "      <td>58b56ca565b863349e33f05ed62532784bc8f11935ad73...</td>\n",
       "    </tr>\n",
       "  </tbody>\n",
       "</table>\n",
       "<p>507830 rows × 22 columns</p>\n",
       "</div>"
      ],
      "text/plain": [
       "                                            id_claim_hash claim_type  \\\n",
       "0       70a6c41c37a072a07164100b1182300149231993c9604d...       ZW02   \n",
       "2       41311833ad1442619fad570eb3186e2532dcd22489eabf...       ZW02   \n",
       "3       178303f7069ee3d0650a50ac6491de917efad040cc10fb...       ZW02   \n",
       "4       4c379212dd6466ae8d1cc9365a6facc05c21c1c6c8fde9...       ZW01   \n",
       "5       ba855dc9287b23b47d929db58cf4be351d0620fe4d74f7...       ZW01   \n",
       "...                                                   ...        ...   \n",
       "644542  4ab775abcfc07af3cff1eaec7e3268517e9fcec78a56b9...       ZW02   \n",
       "644543  f0744e92e666002e85be195155dd0e9339d5dab119a416...       ZW02   \n",
       "644544  5d6969a2ad9a348a582c8866970b84dbc3373bdeb0359c...       ZW02   \n",
       "644545  0530495825d7a8fa90a3d1a8b933164024ce69943e3732...       ZW01   \n",
       "644547  6dc77a54e3993f771f6bce7c15cd3d22765719bc157308...       ZW02   \n",
       "\n",
       "       claim_status claim_status_des  work_hours failure_date  \\\n",
       "0              Z080       Claim paid        0.20   2019-02-28   \n",
       "2              Z080       Claim paid        0.60   2019-12-02   \n",
       "3              Z080       Claim paid        2.00   2020-06-12   \n",
       "4              Z080       Claim paid        0.10   2021-07-20   \n",
       "5              Z080       Claim paid        0.50   2020-08-03   \n",
       "...             ...              ...         ...          ...   \n",
       "644542         Z080       Claim paid        4.65   2019-02-11   \n",
       "644543         Z080       Claim paid        1.20   2019-05-30   \n",
       "644544         Z080       Claim paid        0.10   2021-01-25   \n",
       "644545         Z080       Claim paid        1.00   2021-01-20   \n",
       "644547         Z080       Claim paid        1.00   2019-08-19   \n",
       "\n",
       "                                                 vin_hash product_division  \\\n",
       "0       7844f9bafe2de98fbcb6c501885449218aceb8c0c315db...            TRUCK   \n",
       "2       6527fb44ac31cdce99bc39fcec7d947e552eee4abe8e14...            TRUCK   \n",
       "3       dc30d2d67f63c15ed647c96de9794aed4b37306f66cbc7...            TRUCK   \n",
       "4       19e83fb7cfd3a24b4ec4159a22d1bca823485f4f59f46a...              BUS   \n",
       "5       57ec655a71291f290cca3f9e64f27b2d3188a5555c8dad...            TRUCK   \n",
       "...                                                   ...              ...   \n",
       "644542  6ca114f977053f48573a371ff439524865c953d7005ccf...            TRUCK   \n",
       "644543  08dbfa6b2c6bb0031df7ed661fdb03b922524db363c3d0...            TRUCK   \n",
       "644544  3085e86f43483773365dfa04250c4844142e4899d5e3fb...            TRUCK   \n",
       "644545  c27a1de4ffaed8e4c09a28b83ebe6fb00ebf375d85d0c6...              BUS   \n",
       "644547  d81432fde719603f5a7560f5bb10a8d26a7158afbe9060...            TRUCK   \n",
       "\n",
       "               business_unit_des  region  ... component  \\\n",
       "0       COMMERCIAL VEHICLES B.U.  Europe  ...     54063   \n",
       "2         BU TRUCKS -HEAVY RANGE  Europe  ...     76081   \n",
       "3         BU TRUCKS -HEAVY RANGE  Europe  ...     55292   \n",
       "4       COMMERCIAL VEHICLES B.U.  Europe  ...     50471   \n",
       "5       COMMERCIAL VEHICLES B.U.  Europe  ...     54241   \n",
       "...                          ...     ...  ...       ...   \n",
       "644542   BU TRUCKS -MEDIUM RANGE  Europe  ...     50743   \n",
       "644543  COMMERCIAL VEHICLES B.U.  Europe  ...     50146   \n",
       "644544  COMMERCIAL VEHICLES B.U.  Europe  ...     76201   \n",
       "644545              BUS DIVISION  Europe  ...     50604   \n",
       "644547   BU TRUCKS -MEDIUM RANGE  Europe  ...     54371   \n",
       "\n",
       "                  component_des item_type  \\\n",
       "0              ROCKER TOP COVER        FR   \n",
       "2            STARTER MOTOR ASSY        FR   \n",
       "3                      MUDGUARD        FR   \n",
       "4          ELECTRIC DECELERATOR        FR   \n",
       "5                 TURBO CHARGER        FR   \n",
       "...                         ...       ...   \n",
       "644542     NOX DETECTION SENSOR        FR   \n",
       "644543  HYDR.ST.SYS PIPES+HOSES        FR   \n",
       "644544                  BATTERY        FR   \n",
       "644545    COLLARS,HOSES,SLEEVES        FR   \n",
       "644547       EXHAUST BRAKE ASSY        FR   \n",
       "\n",
       "                                      id_causal_part_hash  \\\n",
       "0       c47636bcc77194a7fbfa08d10d5f18be88e2654de170d0...   \n",
       "2       140356535f38645fbae99ad8816575da6e91e634089873...   \n",
       "3       6d9f59542772b3c15939a30ff690d0dc1705180406528f...   \n",
       "4       b4f0f24a67fd7bdc5284caac0d8409678b95eb6e2a5ba5...   \n",
       "5       758dc31d7430b3c566ce5bdec59af7e2b8a6778024471f...   \n",
       "...                                                   ...   \n",
       "644542  8a6ce6993469b0044dbd525a5b6656aa626cea4902b867...   \n",
       "644543  50938cfdce8595a5f29062abdcaffffc0151e9d7f42566...   \n",
       "644544  be489a7ed23065e5f5341c367f7923c5b5d41caa90ca82...   \n",
       "644545  9b2b4b307c2a19bd1ff2c0f1bb56ccbec3dbd383709ba0...   \n",
       "644547  aaffaade4597456ae57dc6a392bf3242044573aa377045...   \n",
       "\n",
       "                                      id_part_number_hash part_number_des  \\\n",
       "0       5cc870b50d68a02f026216d8d089eb8615e8e26129308d...        -ECONOMY   \n",
       "2       5cc870b50d68a02f026216d8d089eb8615e8e26129308d...        -ECONOMY   \n",
       "3       5cc870b50d68a02f026216d8d089eb8615e8e26129308d...        -ECONOMY   \n",
       "4       5cc870b50d68a02f026216d8d089eb8615e8e26129308d...        -ECONOMY   \n",
       "5       5cc870b50d68a02f026216d8d089eb8615e8e26129308d...        -ECONOMY   \n",
       "...                                                   ...             ...   \n",
       "644542  5cc870b50d68a02f026216d8d089eb8615e8e26129308d...        -ECONOMY   \n",
       "644543  5cc870b50d68a02f026216d8d089eb8615e8e26129308d...        -ECONOMY   \n",
       "644544  5cc870b50d68a02f026216d8d089eb8615e8e26129308d...        -ECONOMY   \n",
       "644545  5cc870b50d68a02f026216d8d089eb8615e8e26129308d...        -ECONOMY   \n",
       "644547  5cc870b50d68a02f026216d8d089eb8615e8e26129308d...        -ECONOMY   \n",
       "\n",
       "       cd_decision decision_des      amount  \\\n",
       "0                P          Pay    5.906040   \n",
       "2                P          Pay   25.080000   \n",
       "3                P          Pay  114.600000   \n",
       "4                P          Pay    3.100000   \n",
       "5                P          Pay   20.150000   \n",
       "...            ...          ...         ...   \n",
       "644542           P          Pay  259.010000   \n",
       "644543           P          Pay   84.558140   \n",
       "644544           P          Pay    8.100000   \n",
       "644545           P          Pay   76.000000   \n",
       "644547           P          Pay   36.577181   \n",
       "\n",
       "                                           cd_dealer_hash  \n",
       "0       35e183f47f75b85aa0c92e6251ef8c3d1bbf184708a529...  \n",
       "2       c18a8ad752fb7e649161dcabed2d1fb96fa38265866c1e...  \n",
       "3       40f6461449ca9c11a4e7bf125b67626759976a171b4a72...  \n",
       "4       4eb70fde548ac04fb216d9ea04721497db4a4f7b2f6ea8...  \n",
       "5       5f3b6732c285356be83ff90d5f3cbc5a3afe11add07d57...  \n",
       "...                                                   ...  \n",
       "644542  4b050802135759e35dc2bb285005e7a5ea8f4ec8f8b515...  \n",
       "644543  0ac8f96330b2fadef0f4f052dc36e91075b89998de00d4...  \n",
       "644544  de3d0af8236f47c31d41ff2239626659ece35033c428e0...  \n",
       "644545  cc4116d9cf1e2d54ba6644be17e845db0b26716bb99a45...  \n",
       "644547  58b56ca565b863349e33f05ed62532784bc8f11935ad73...  \n",
       "\n",
       "[507830 rows x 22 columns]"
      ]
     },
     "execution_count": 3,
     "metadata": {},
     "output_type": "execute_result"
    }
   ],
   "source": [
    "valid_claim_values = ['ZW01','ZW02','ZW06']\n",
    "valid_part_number_descr_values = ['-ECONOMY', '-ECONOMY50', '-E1', '-E3']\n",
    "\n",
    "#filter by claim_type and part_number_des\n",
    "filt_df = filterByColumnValues(df,'claim_type',valid_claim_values)\n",
    "filt_df = filterByColumnValues(filt_df,'part_number_des',valid_part_number_descr_values)\n",
    "\n",
    "filt_df"
   ]
  },
  {
   "cell_type": "markdown",
   "id": "79378c8c",
   "metadata": {},
   "source": [
    "# Filtro per nazioni"
   ]
  },
  {
   "cell_type": "code",
   "execution_count": 9,
   "id": "7789bcd1",
   "metadata": {},
   "outputs": [
    {
     "data": {
      "text/plain": [
       "array(['Poland', 'Italy', 'Spain', 'Croatia', 'Germany', 'France',\n",
       "       'Czech Republic', 'Austria', 'Switzerland', 'Slovakia', 'Romania',\n",
       "       'United Kingdom', 'Netherlands', 'Portugal', 'Norway', 'Finland',\n",
       "       'Denmark', 'Belgium', 'Hungary', 'Bulgaria', 'Lithuania', 'Sweden',\n",
       "       'Slovenia', 'Iceland', 'Serbia', 'Ireland', 'Ukraine', 'Latvia',\n",
       "       'Estonia', 'Greece', 'Bosnia-Herz.', 'Moldavia', 'Montenegro',\n",
       "       'Faroe Islands', 'Cyprus'], dtype=object)"
      ]
     },
     "execution_count": 9,
     "metadata": {},
     "output_type": "execute_result"
    }
   ],
   "source": [
    "countries_list=getTableColumn(filt_df,'country',True)#Seleziono tutte le possibili nazioni che compaiono\n",
    "#lf=[None] * len(countries_list) #Creo una lista di lunghezza identica a quella di countries_list contente tutti i dati per ogni nazione\n",
    "#for i in range(len(countries_list)):\n",
    "#    lf[i]=filt_df1[filt_df1['country'].isin([countries_list[i]])]\n",
    "df_list = separateDfByCountry(filt_df,countries_list)\n",
    "\n",
    "#countries_list\n",
    "#df_list[0]"
   ]
  },
  {
   "cell_type": "markdown",
   "id": "84d6fc0d",
   "metadata": {},
   "source": [
    "# Analisi Dati"
   ]
  },
  {
   "cell_type": "code",
   "execution_count": 17,
   "id": "2e833348",
   "metadata": {
    "scrolled": false
   },
   "outputs": [],
   "source": [
    "#Cazzo è kappa dai (eh mo non è che mi devo ricordare che nazione era la terza dell'array cioèèèè)\n",
    "# Manco un commento per segnalare che nazione è ahahaha\n",
    "k=2# Seleziona la nazione \n",
    "\n",
    "spainIndex = getValueIndex(countries_list,'Spain') \n",
    "amount_array = df_list[spainIndex][\"amount\"].to_numpy() #Estraggo rispettivamente gli array contente il guadagno ottenuto\n",
    "workhours_array=df_list[spainIndex][\"work_hours\"].to_numpy() #Estraggo rispettivamente il numero di ore di lavoro"
   ]
  },
  {
   "cell_type": "markdown",
   "id": "7d3c78fb",
   "metadata": {},
   "source": [
    "# ISTOGRAMMI"
   ]
  },
  {
   "cell_type": "markdown",
   "id": "a5125f57",
   "metadata": {},
   "source": [
    "## Istogrammi che riportanno rispettivamente il numero di occorrenze delle variabili \"Amount\" e \"Hours\""
   ]
  },
  {
   "cell_type": "markdown",
   "id": "d31baa0f",
   "metadata": {},
   "source": [
    "## Problema: Ridurre la dimensione della griglia"
   ]
  },
  {
   "cell_type": "code",
   "execution_count": null,
   "id": "482d96d2",
   "metadata": {
    "collapsed": true
   },
   "outputs": [],
   "source": [
    "x = amount_array\n",
    "bins = np.linspace(0,10000, 100);\n",
    "plt.hist(x, bins,label='Amount')  \n",
    "plt.yscale('log')\n",
    "plt.ylabel('Number')\n",
    "plt.xlabel('Amount')\n",
    "plt.show()"
   ]
  },
  {
   "cell_type": "code",
   "execution_count": null,
   "id": "3971231c",
   "metadata": {
    "collapsed": true
   },
   "outputs": [],
   "source": [
    "y=workhours_array;\n",
    "bins = np.linspace(0,100, 150);\n",
    "plt.yscale('log');\n",
    "plt.ylabel('Number');\n",
    "plt.xlabel('Hours');\n",
    "plt.grid()\n",
    "plt.hist(y, bins,density=None, label='Hours')\n",
    "plt.show()\n"
   ]
  },
  {
   "cell_type": "markdown",
   "id": "e5a4e1f5",
   "metadata": {},
   "source": [
    "# Fit Lineari"
   ]
  },
  {
   "cell_type": "markdown",
   "id": "24f4b8f0",
   "metadata": {},
   "source": [
    "## Filtra con i most_common()"
   ]
  },
  {
   "cell_type": "code",
   "execution_count": null,
   "id": "b4398f30",
   "metadata": {},
   "outputs": [],
   "source": [
    "elementi= 25 #Selezionare il numero di componenti da analizzare"
   ]
  },
  {
   "cell_type": "code",
   "execution_count": null,
   "id": "fa06ad34",
   "metadata": {},
   "outputs": [],
   "source": [
    "array2=[None] * elementi \n",
    "for i in range(elementi):\n",
    "    array2[i]=Counter(filt_df1['component']).most_common(elementi)[i][0]\n"
   ]
  },
  {
   "cell_type": "code",
   "execution_count": null,
   "id": "e12abb3d",
   "metadata": {},
   "outputs": [],
   "source": [
    "new=[None] * len(countries_list) #Creo una lista di lunghezza identica a quella di \"a\" contente tutti i dati per ogni nazione\n",
    "for i in range(len(countries_list)):\n",
    "    new[i]=lf[i][lf[i]['component'].isin(array2)]"
   ]
  },
  {
   "cell_type": "code",
   "execution_count": null,
   "id": "fa26f91c",
   "metadata": {},
   "outputs": [],
   "source": [
    "new[2]['country']"
   ]
  },
  {
   "cell_type": "markdown",
   "id": "7eb6203b",
   "metadata": {},
   "source": [
    "## Filtro ulteriore escludendo i valori che hanno zero ore di lavoro e guadagno netto e viceversa"
   ]
  },
  {
   "cell_type": "code",
   "execution_count": null,
   "id": "2d538d0a",
   "metadata": {},
   "outputs": [],
   "source": [
    "new1_filt=new[(new1['work_hours']>0) & (new1['amount']>0)]"
   ]
  },
  {
   "cell_type": "code",
   "execution_count": null,
   "id": "cf310b6a",
   "metadata": {},
   "outputs": [],
   "source": [
    "outliers_1=new1[(new1['work_hours']==0) | (new1['amount']==0)]"
   ]
  },
  {
   "cell_type": "code",
   "execution_count": null,
   "id": "c9e84b91",
   "metadata": {},
   "outputs": [],
   "source": [
    "print('Il numero di dati scartati é:', len(outliers_1))"
   ]
  },
  {
   "cell_type": "markdown",
   "id": "54eba05d",
   "metadata": {},
   "source": [
    "## Plot"
   ]
  },
  {
   "cell_type": "code",
   "execution_count": null,
   "id": "34177348",
   "metadata": {},
   "outputs": [],
   "source": [
    "sns.relplot(\n",
    "    data=new1_filt,\n",
    "    x=\"work_hours\", y=\"amount\",\n",
    "    hue=\"component\", style=\"product_division\"\n",
    ")"
   ]
  },
  {
   "cell_type": "markdown",
   "id": "f0105275",
   "metadata": {},
   "source": [
    "## Fit per componente"
   ]
  },
  {
   "cell_type": "code",
   "execution_count": null,
   "id": "ec8425fd",
   "metadata": {},
   "outputs": [],
   "source": [
    "sns.lmplot(x=\"work_hours\", y=\"amount\", hue=\"component\", data=new1_filt);"
   ]
  },
  {
   "cell_type": "markdown",
   "id": "8872f183",
   "metadata": {},
   "source": [
    "# Outliers"
   ]
  },
  {
   "cell_type": "code",
   "execution_count": null,
   "id": "85025849",
   "metadata": {
    "collapsed": true
   },
   "outputs": [],
   "source": [
    "new1_filt['amount/work_hours']= new1_filt['amount']/new1_filt['work_hours']"
   ]
  },
  {
   "cell_type": "code",
   "execution_count": null,
   "id": "0d52fe63",
   "metadata": {},
   "outputs": [],
   "source": [
    "print(\"Numero di dati a disposizione: \",len(new1_filt))"
   ]
  },
  {
   "cell_type": "markdown",
   "id": "051e46de",
   "metadata": {},
   "source": [
    "## Box-Plot per nazione"
   ]
  },
  {
   "cell_type": "code",
   "execution_count": null,
   "id": "67318fa1",
   "metadata": {},
   "outputs": [],
   "source": [
    "sns.boxplot(x=new1_filt[\"amount/work_hours\"],y=new1[\"component\"])\n",
    "unique_arr = new1_filt[\"country\"].unique()\n",
    "plt.title(unique_arr[0])\n",
    "plt.show()"
   ]
  },
  {
   "cell_type": "code",
   "execution_count": null,
   "id": "aba97cba",
   "metadata": {},
   "outputs": [],
   "source": []
  }
 ],
 "metadata": {
  "kernelspec": {
   "display_name": "Python 3.10.8 64-bit",
   "language": "python",
   "name": "python3"
  },
  "language_info": {
   "codemirror_mode": {
    "name": "ipython",
    "version": 3
   },
   "file_extension": ".py",
   "mimetype": "text/x-python",
   "name": "python",
   "nbconvert_exporter": "python",
   "pygments_lexer": "ipython3",
   "version": "3.10.8"
  },
  "vscode": {
   "interpreter": {
    "hash": "ceba285e8b4e6478fe8ad229bc63940a90ad5cf3d143521e7c38823a2e915b21"
   }
  }
 },
 "nbformat": 4,
 "nbformat_minor": 5
}
